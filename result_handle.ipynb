{
 "cells": [
  {
   "cell_type": "markdown",
   "metadata": {},
   "source": [
    "## 导入数据\n",
    "\n",
    "处理mobMig_QoE的处理结果的4个csv文件：\n",
    "- 将50人，100人，150人，200人的数据结果中每25s的数据提取出来\n",
    "- 分别对四个表的每25s的数据结果求平均\n",
    "- 四个表结果汇总得到最终结果，存储在result表中"
   ]
  },
  {
   "cell_type": "code",
   "execution_count": 1,
   "metadata": {},
   "outputs": [],
   "source": [
    "import pandas as pd\n",
    "import numpy as np\n",
    "\n",
    "data_50 = pd.read_csv(\"./result/50_users_result.csv\")\n",
    "data_100 = pd.read_csv(\"./result/100_users_result.csv\")\n",
    "data_150 = pd.read_csv(\"./result/150_users_result.csv\")\n",
    "data_200 = pd.read_csv(\"./result/200_users_result.csv\")"
   ]
  },
  {
   "cell_type": "markdown",
   "metadata": {},
   "source": [
    "### 每25s时刻的数据提取\n",
    "对4个表中每个25s整数倍时刻的数据分别提取出来，求出各自的平均值后重组成一个dataframe"
   ]
  },
  {
   "cell_type": "code",
   "execution_count": 2,
   "metadata": {},
   "outputs": [],
   "source": [
    "# 分别提取各个表中的25s的整数倍时的数据\n",
    "time_slot = 25\n",
    "data_50 = data_50[data_50['时刻t/s'] % time_slot == 0]\n",
    "data_100 = data_100[data_100['时刻t/s'] % time_slot == 0]\n",
    "data_150 = data_150[data_150['时刻t/s'] % time_slot == 0]\n",
    "data_200 = data_200[data_200['时刻t/s'] % time_slot == 0]\n",
    "\n",
    "# 求各表的25s整数倍时的数据的平均值\n",
    "average_list = []\n",
    "average_list.append(data_50.mean())\n",
    "average_list.append(data_100.mean())\n",
    "average_list.append(data_150.mean())\n",
    "average_list.append(data_200.mean())\n",
    "\n",
    "# 平均值组成新表\n",
    "df=pd.DataFrame(average_list)"
   ]
  },
  {
   "cell_type": "markdown",
   "metadata": {},
   "source": [
    "### 数据细节处理\n",
    "\n",
    "- 更改列名\n",
    "- 插入用户数量\n",
    "- 类型转换\n",
    "- 去除不必要的列"
   ]
  },
  {
   "cell_type": "code",
   "execution_count": 3,
   "metadata": {},
   "outputs": [],
   "source": [
    "# 插入用户数量\n",
    "df.insert(0, '用户数量', [50,100,150,200])\n",
    "\n",
    "# 去除时刻列\n",
    "result = df.drop('时刻t/s',axis = 1,inplace = False)    # axis参数默认为0\n",
    "result['已分配用户数'] =  result[\"已分配用户数\"].astype(int)\n",
    "\n",
    "# 重命名表格的列\n",
    "col=['用户数量/人','平均用户覆盖率', '平均重分配次数/次', '平均已分配用户数', '平均QoE值']\n",
    "result.columns=col"
   ]
  },
  {
   "cell_type": "markdown",
   "metadata": {},
   "source": [
    "## 保存数据"
   ]
  },
  {
   "cell_type": "code",
   "execution_count": 4,
   "metadata": {},
   "outputs": [],
   "source": [
    "result.to_csv(\"./result/average_results.csv\", sep=',', index = False, header = True, encoding='utf-8-sig')"
   ]
  }
 ],
 "metadata": {
  "interpreter": {
   "hash": "89abc0094a69c300f868ab91b57da2ef53b901cbaf193524c5daf8e63454e9ae"
  },
  "kernelspec": {
   "display_name": "Python 3.8.5 ('base')",
   "language": "python",
   "name": "python3"
  },
  "language_info": {
   "codemirror_mode": {
    "name": "ipython",
    "version": 3
   },
   "file_extension": ".py",
   "mimetype": "text/x-python",
   "name": "python",
   "nbconvert_exporter": "python",
   "pygments_lexer": "ipython3",
   "version": "3.9.0"
  },
  "orig_nbformat": 4
 },
 "nbformat": 4,
 "nbformat_minor": 2
}
