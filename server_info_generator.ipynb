{
 "cells": [
  {
   "cell_type": "markdown",
   "metadata": {},
   "source": [
    "## 导入数据\n",
    "\n",
    "输入数据：输入数据集要求有MEC服务器的经纬度信息，站点信息 = {LATITUDE, LONGITUDE}\n",
    "\n",
    "输出数据：MEC服务器信息：{SITE_ID, LATITUDE, LONGITUDE, r, capacity}"
   ]
  },
  {
   "cell_type": "code",
   "execution_count": 1,
   "metadata": {},
   "outputs": [],
   "source": [
    "import pandas as pd\n",
    "import numpy as np\n",
    "data = pd.read_csv('./data/site-optus-melbCBD.csv')[['LATITUDE', 'LONGITUDE']]"
   ]
  },
  {
   "cell_type": "markdown",
   "metadata": {},
   "source": [
    "### 生成服务器的服务范围和容量\n",
    "\n",
    "服务范围 Rj：200~400m内随机数\n",
    "\n",
    "容量 capcity：7人"
   ]
  },
  {
   "cell_type": "code",
   "execution_count": 2,
   "metadata": {},
   "outputs": [],
   "source": [
    "rs = []\n",
    "max_num = 400   # 最大服务范围\n",
    "min_num = 200   # 最小服务范围\n",
    "capacity = 7    # 服务器最多服务人数\n",
    "for i in range(125):\n",
    "    rs.append(np.random.random() * (max_num - min_num) + min_num)\n",
    "data['r'] = rs\n",
    "# data['capacity'] = capacity\n",
    "data.insert(0, 'SITE_ID', range(1, 126))"
   ]
  },
  {
   "cell_type": "markdown",
   "metadata": {},
   "source": [
    "## 数据导出"
   ]
  },
  {
   "cell_type": "code",
   "execution_count": 3,
   "metadata": {},
   "outputs": [],
   "source": [
    "output_path = \"./data/server_la_lng_r200-400.csv\"\n",
    "data.to_csv(output_path)"
   ]
  }
 ],
 "metadata": {
  "interpreter": {
   "hash": "89abc0094a69c300f868ab91b57da2ef53b901cbaf193524c5daf8e63454e9ae"
  },
  "kernelspec": {
   "display_name": "Python 3.8.5 ('base')",
   "language": "python",
   "name": "python3"
  },
  "language_info": {
   "codemirror_mode": {
    "name": "ipython",
    "version": 3
   },
   "file_extension": ".py",
   "mimetype": "text/x-python",
   "name": "python",
   "nbconvert_exporter": "python",
   "pygments_lexer": "ipython3",
   "version": "3.9.0"
  },
  "orig_nbformat": 4
 },
 "nbformat": 4,
 "nbformat_minor": 2
}
